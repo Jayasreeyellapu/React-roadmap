{
  "nbformat": 4,
  "nbformat_minor": 0,
  "metadata": {
    "colab": {
      "provenance": [],
      "authorship_tag": "ABX9TyP8DDuOeyhCfY7CgnF0eBR9",
      "include_colab_link": true
    },
    "kernelspec": {
      "name": "python3",
      "display_name": "Python 3"
    },
    "language_info": {
      "name": "python"
    }
  },
  "cells": [
    {
      "cell_type": "markdown",
      "metadata": {
        "id": "view-in-github",
        "colab_type": "text"
      },
      "source": [
        "<a href=\"https://colab.research.google.com/github/Jayasreeyellapu/React-roadmap/blob/main/React_Roadmap.ipynb\" target=\"_parent\"><img src=\"https://colab.research.google.com/assets/colab-badge.svg\" alt=\"Open In Colab\"/></a>"
      ]
    },
    {
      "cell_type": "markdown",
      "source": [
        "<h1>**DAY - 01 **</h2>"
      ],
      "metadata": {
        "id": "4sLRBfYkAIxc"
      }
    },
    {
      "cell_type": "markdown",
      "source": [
        "**HTML & CSS Refresher**\n",
        "**HTML** :\n",
        "*   Hyper Text Markup Language.\n",
        "*   The structure of a Webpage.\n",
        "\n",
        "**CSS**\n",
        "*   Cacading Style Sheets.\n",
        "*   The styling of the webpage.\n",
        "\n",
        "\n",
        "\n",
        "\n",
        "\n",
        "\n",
        "\n",
        "\n",
        "\n"
      ],
      "metadata": {
        "id": "Ecw4jGhk88jI"
      }
    },
    {
      "cell_type": "markdown",
      "source": [
        "<!DOCTYPE html>\n",
        "<html>\n",
        "<head>\n",
        "  <title>My Page</title>\n",
        "  <style>\n",
        "    h1 {\n",
        "      color: blue;        \n",
        "      text-align: center;\n",
        "    }\n",
        "  </style>\n",
        "</head>\n",
        "<body>\n",
        "  <h1>Jayasree</h1>\n",
        "  <p>Studying B.*TECH*</p>\n",
        "</body>\n",
        "</html>\n"
      ],
      "metadata": {
        "id": "8p6t5Lvz-mUn"
      }
    },
    {
      "cell_type": "markdown",
      "source": [
        "Here\n",
        "*   <h1> - is HTML → structure.\n",
        "*   color: blue; is CSS → styling.\n",
        "\n"
      ],
      "metadata": {
        "id": "KzP7ZPxq-8cB"
      }
    },
    {
      "cell_type": "markdown",
      "source": [
        "**Semantic HTML**\n",
        "Semantic means using meaningful tags instead of just <div> everywhere.\n",
        "\n",
        "Example of non-semantic: <div id=\"header\">\n",
        "\n",
        "Example of semantic: <header>\n",
        "\n",
        "Common semantic tags:\n",
        "\n",
        "header → top section of a page\n",
        "\n",
        "nav → navigation links\n",
        "\n",
        "main → main content of the page\n",
        "\n",
        "section→ groups related content\n",
        "\n",
        "article → independent content (like blog post)\n",
        "\n",
        "footer → bottom section of a page"
      ],
      "metadata": {
        "id": "Fu-V6JTxAfSP"
      }
    },
    {
      "cell_type": "code",
      "source": [
        "<header>\n",
        "  <h1>My Website</h1>\n",
        "</header>\n",
        "<nav>\n",
        "  <a href=\"#home\">Home</a> |\n",
        "  <a href=\"#about\">About</a>\n",
        "</nav>\n",
        "<main>\n",
        "  <article>\n",
        "    <h2>Blog Post</h2>\n",
        "    <p>This is an article about React.</p>\n",
        "  </article>\n",
        "</main>\n",
        "<footer>\n",
        "  <p>© 2025 My Website</p>\n",
        "</footer>\n"
      ],
      "metadata": {
        "colab": {
          "base_uri": "https://localhost:8080/",
          "height": 106
        },
        "id": "NvB6aAaYCmq6",
        "outputId": "5995f979-cb2b-400b-cbf1-7e1b41b3c2b6"
      },
      "execution_count": null,
      "outputs": [
        {
          "output_type": "error",
          "ename": "SyntaxError",
          "evalue": "invalid character '©' (U+00A9) (ipython-input-2550695508.py, line 15)",
          "traceback": [
            "\u001b[0;36m  File \u001b[0;32m\"/tmp/ipython-input-2550695508.py\"\u001b[0;36m, line \u001b[0;32m15\u001b[0m\n\u001b[0;31m    <p>© 2025 My Website</p>\u001b[0m\n\u001b[0m       ^\u001b[0m\n\u001b[0;31mSyntaxError\u001b[0m\u001b[0;31m:\u001b[0m invalid character '©' (U+00A9)\n"
          ]
        }
      ]
    },
    {
      "cell_type": "markdown",
      "source": [
        "**Forms**\n",
        "Forms are used for user input (login, signup, search, etc.).\n",
        "\n",
        "Basic Tags :-\n",
        "<form> → container\n",
        "\n",
        "<input> → text fields, password, email, checkbox, etc.\n",
        "\n",
        "<textarea> → multi-line text\n",
        "\n",
        "<select> → dropdown\n",
        "\n",
        "<button> → submit button\n",
        "required → makes the field mandatory.\n",
        "\n",
        "type=\"email\" → checks if input is a valid email\n",
        "\n",
        "Example code :-\n",
        "<form>\n",
        "  <input type=\"text\" placeholder=\"Name\" required>\n",
        "  <input type=\"email\" placeholder=\"Email\" required>\n",
        "  <button>Submit</button>\n",
        "</form>\n"
      ],
      "metadata": {
        "id": "jLK9w1B1C-pL"
      }
    },
    {
      "cell_type": "markdown",
      "source": [
        "**Media Tags**\n",
        "used for images,audios,videos etc\n",
        "\n",
        "Images :\n",
        "<img src=\"cat.jpg\" alt=\"A cute cat\" width=\"300\">\n",
        "\n",
        "Audio :\n",
        "<audio controls src=\"song.mp3\"></audio>\n",
        "\n",
        "Video :\n",
        "<video controls src=\"movie.mp4\"></video>"
      ],
      "metadata": {
        "id": "fIgtVAQ7Ettz"
      }
    },
    {
      "cell_type": "markdown",
      "source": [
        "1. **Flexbox**\n",
        "\n",
        "Flexbox is a way to arrange items in a row or column and easily align or space them.\n",
        "\n",
        "2. **Grid**\n",
        "\n",
        "Grid is a layout system that lets you place items in rows and columns (like a table or chessboard).\n",
        "\n",
        "3. **Responsive Design**\n",
        "\n",
        "Responsive design means making a website look good on all devices (mobile, tablet, laptop, PC) by changing size and layout automatically."
      ],
      "metadata": {
        "id": "oozIa2VaIKu6"
      }
    }
  ]
}